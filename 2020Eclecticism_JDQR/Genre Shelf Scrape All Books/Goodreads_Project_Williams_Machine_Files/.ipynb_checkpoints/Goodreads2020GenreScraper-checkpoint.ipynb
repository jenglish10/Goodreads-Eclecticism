{
 "cells": [
  {
   "cell_type": "code",
   "execution_count": 1,
   "metadata": {},
   "outputs": [
    {
     "name": "stderr",
     "output_type": "stream",
     "text": [
      "/Users/ahnming/opt/miniconda3/lib/python3.8/site-packages/IPython/core/interactiveshell.py:3146: DtypeWarning: Columns (4) have mixed types.Specify dtype option on import or set low_memory=False.\n",
      "  has_raised = await self.run_ast_nodes(code_ast.body, cell_name,\n"
     ]
    },
    {
     "data": {
      "text/plain": [
       "329718"
      ]
     },
     "execution_count": 1,
     "metadata": {},
     "output_type": "execute_result"
    }
   ],
   "source": [
    "from threading import Thread\n",
    "import urllib\n",
    "import pandas as pd\n",
    "import bs4\n",
    "import re\n",
    "import csv\n",
    "import requests\n",
    "import math\n",
    "import random\n",
    "import time\n",
    "# CHANGE THIS PATHING\n",
    "book_list = pd.read_csv('books_details_cleaned_for_Excel.csv', encoding = \"ISO-8859-1\")['book_id']\n",
    "dest_path = r'/Users/ahnming/Desktop/'\n",
    "len(book_list)\n",
    "# print(book_list[0:10])"
   ]
  },
  {
   "cell_type": "code",
   "execution_count": 10,
   "metadata": {},
   "outputs": [
    {
     "ename": "ValueError",
     "evalue": "invalid literal for int() with base 10: '20,553'",
     "output_type": "error",
     "traceback": [
      "\u001b[0;31m---------------------------------------------------------------------------\u001b[0m",
      "\u001b[0;31mValueError\u001b[0m                                Traceback (most recent call last)",
      "\u001b[0;32m<ipython-input-10-3bf22326056e>\u001b[0m in \u001b[0;36m<module>\u001b[0;34m\u001b[0m\n\u001b[1;32m     15\u001b[0m         \u001b[0mwriter\u001b[0m\u001b[0;34m.\u001b[0m\u001b[0mwriterow\u001b[0m\u001b[0;34m(\u001b[0m\u001b[0mheader\u001b[0m\u001b[0;34m)\u001b[0m\u001b[0;34m\u001b[0m\u001b[0;34m\u001b[0m\u001b[0m\n\u001b[1;32m     16\u001b[0m         \u001b[0;32mfor\u001b[0m \u001b[0mrows\u001b[0m \u001b[0;32min\u001b[0m \u001b[0mreader\u001b[0m\u001b[0;34m:\u001b[0m\u001b[0;34m\u001b[0m\u001b[0;34m\u001b[0m\u001b[0m\n\u001b[0;32m---> 17\u001b[0;31m             \u001b[0;32mif\u001b[0m \u001b[0many\u001b[0m\u001b[0;34m(\u001b[0m\u001b[0mx\u001b[0m \u001b[0;32min\u001b[0m \u001b[0mrows\u001b[0m\u001b[0;34m[\u001b[0m\u001b[0;36m5\u001b[0m\u001b[0;34m]\u001b[0m \u001b[0;32mfor\u001b[0m \u001b[0mx\u001b[0m \u001b[0;32min\u001b[0m \u001b[0mremoved_genres\u001b[0m\u001b[0;34m)\u001b[0m \u001b[0;32mor\u001b[0m \u001b[0;34m(\u001b[0m\u001b[0mint\u001b[0m\u001b[0;34m(\u001b[0m\u001b[0mrows\u001b[0m\u001b[0;34m[\u001b[0m\u001b[0;36m3\u001b[0m\u001b[0;34m]\u001b[0m\u001b[0;34m.\u001b[0m\u001b[0mreplace\u001b[0m\u001b[0;34m(\u001b[0m\u001b[0;34m\"\\n\"\u001b[0m\u001b[0;34m,\u001b[0m \u001b[0;34m\"\"\u001b[0m\u001b[0;34m)\u001b[0m\u001b[0;34m)\u001b[0m \u001b[0;34m<\u001b[0m \u001b[0;36m30\u001b[0m\u001b[0;34m)\u001b[0m\u001b[0;34m:\u001b[0m\u001b[0;34m\u001b[0m\u001b[0;34m\u001b[0m\u001b[0m\n\u001b[0m\u001b[1;32m     18\u001b[0m                    \u001b[0;32mcontinue\u001b[0m\u001b[0;34m\u001b[0m\u001b[0;34m\u001b[0m\u001b[0m\n\u001b[1;32m     19\u001b[0m             \u001b[0;32melse\u001b[0m\u001b[0;34m:\u001b[0m\u001b[0;34m\u001b[0m\u001b[0;34m\u001b[0m\u001b[0m\n",
      "\u001b[0;31mValueError\u001b[0m: invalid literal for int() with base 10: '20,553'"
     ]
    }
   ],
   "source": [
    "# prob = []\n",
    "\n",
    "# with open(\"/Users/ahnming/Downloads/books_details_refined_for_Excel.csv\") as initfile:\n",
    "#     reader = csv.reader(initfile)\n",
    "#     next(initfile)\n",
    "#     total = sum(float(row[3].replace('\\n', '').replace(\",\", \"\")) for row in reader)\n",
    "#     for i in book_list:\n",
    "#         prob.append(i[3] / total)\n",
    "\n",
    "# with open(\"/Users/ahnming/Downloads/books_details_refined_for_Excel.csv\", \"r\") as initfile:\n",
    "#     with open(\"/Users/ahnming/Desktop/books_details_refined_no_childrens_etc.csv\", \"w\") as outfile:\n",
    "#         reader = csv.reader(initfile, delimiter = \",\")\n",
    "#         writer = csv.writer(outfile, delimiter = \",\")\n",
    "#         header = next(reader)\n",
    "#         writer.writerow(header)\n",
    "#         for rows in reader:\n",
    "#             if any(x in rows[5] for x in removed_genres) or (int(rows[3].replace(\"\\n\", \"\")) < 30):\n",
    "#                    continue\n",
    "#             else:\n",
    "#                    writer.writerows([rows])\n"
   ]
  },
  {
   "cell_type": "code",
   "execution_count": null,
   "metadata": {},
   "outputs": [],
   "source": [
    "final_output = []\n",
    "removed_genres = [\"childrens\", \"poetry\", \"sequential-art\", \"graphic-novel\", \"non-fiction\", \"middle-grade\"]\n",
    "\n",
    "book_list_test = book_list[15389:300000]\n",
    "def th(ur):\n",
    "    try:\n",
    "        lnk = \"https://www.goodreads.com/book/show/\"+str(ur)\n",
    "        req = urllib.request.urlopen(lnk)\n",
    "        htmltext = req.read()\n",
    "        soup = bs4.BeautifulSoup(htmltext,'lxml',from_encoding=\"utf8\")\n",
    "        strrr=soup.title.string.replace('\\n','')\n",
    "        for url in soup.find_all('h1',itemprop='name'):\n",
    "            title = str(url.text).replace('\\n', '').replace(',', ' ')\n",
    "        for url in soup.find_all('span',itemprop='name'):\n",
    "            author = str(url.text).replace('\\n', '')\n",
    "#        print(title)\n",
    "#         print(author)\n",
    "#         print(soup.find_all('title'))\n",
    "#         title = str(soup.find_all('h1')[0].get_text())\n",
    "#         print(title)\n",
    "#         author = str(soup.find_all('span')[14].get_text())\n",
    "#         print(author)\n",
    "#         if(str(soup.find_all('span')[15].get_text()) != '(Goodreads Author)'):\n",
    "#             author = str(soup.find_all('span')[14].get_text())+','+str(soup.find_all('span')[15].get_text())\n",
    "        for url in soup.find_all('span',itemprop='ratingValue'):\n",
    "            rating = str(url.text).replace('\\n','').replace(' ','')\n",
    "#         for url in soup.find_all('span',{'class':'count value-title'}):\n",
    "#             review = str(url.text).replace('\\n','').replace(' ','')\n",
    "        cnt=0\n",
    "        genre = []\n",
    "#         print(rating)\n",
    "#         print(review)\n",
    "        for url in soup.find_all('a',{'class':'actionLinkLite greyText bookPageGenreLink'}):\n",
    "            genre.append(str(url[\"title\"].replace('\\n', '').replace('\\'', '')).split(' people shelved this book as '))\n",
    "            cnt += 1\n",
    "            if cnt==6:\n",
    "                break\n",
    "#         print(genre)\n",
    "        return [str(ur), str(title), str(author), str(rating), str(genre)] \n",
    "\n",
    "    except:\n",
    "        return [ur]\n",
    "#     final_output.append([str(ur),str(rating_final),str(review_final),str(avg_rating_final)])\n",
    "\n",
    "# p=Pool()\n",
    "# final_output=p.map(th, book_list)\n",
    "\n",
    "\n",
    "with open('temp4.csv', 'a') as myfile:\n",
    "    for i in book_list_test:\n",
    "#         time.sleep(3)\n",
    "        row = th(i)\n",
    "        row = [str(i) for i in row]\n",
    "        output_string = ','.join(row) + '\\n'\n",
    "        try:\n",
    "            if any(x in row[4] for x in removed_genres):\n",
    "                continue\n",
    "            else:\n",
    "                myfile.write(output_string.replace('[', '').replace(']', '').replace('\\'', ''))\n",
    "                repeat_check = row[2]\n",
    "        except IndexError:\n",
    "            continue\n",
    "        \n",
    "#     wr = csv.writer(myfile, quoting=csv.QUOTE_ALL)\n",
    "#     wr.writerow(['book_id','book_title','author','rating','genre'])\n",
    "#     for ele in final_output:\n",
    "#   wr.writerow(ele)"
   ]
  },
  {
   "cell_type": "code",
   "execution_count": null,
   "metadata": {},
   "outputs": [],
   "source": []
  },
  {
   "cell_type": "code",
   "execution_count": null,
   "metadata": {},
   "outputs": [],
   "source": []
  }
 ],
 "metadata": {
  "kernelspec": {
   "display_name": "Python 3",
   "language": "python",
   "name": "python3"
  },
  "language_info": {
   "codemirror_mode": {
    "name": "ipython",
    "version": 3
   },
   "file_extension": ".py",
   "mimetype": "text/x-python",
   "name": "python",
   "nbconvert_exporter": "python",
   "pygments_lexer": "ipython3",
   "version": "3.8.3"
  }
 },
 "nbformat": 4,
 "nbformat_minor": 4
}
